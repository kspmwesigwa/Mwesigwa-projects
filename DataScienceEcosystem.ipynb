{
 "cells": [
  {
   "cell_type": "markdown",
   "id": "cd6e09a9-0b54-4fdc-bd5a-7af315d26fda",
   "metadata": {},
   "source": [
    "# Data Science Tools and Ecosystem"
   ]
  },
  {
   "cell_type": "markdown",
   "id": "76ccc598-82be-4386-8d86-c9d3c631a899",
   "metadata": {},
   "source": [
    "This notebook summarizes Data Science Tools and Ecosystem."
   ]
  },
  {
   "cell_type": "markdown",
   "id": "ed5309dc-3e50-4c9b-b279-355f95125f96",
   "metadata": {},
   "source": [
    "Some of the popular languages that Data Scientists use are:\n",
    "\n",
    "1. Python – Widely used for data analysis, machine learning, and visualization.\n",
    "2. R – Excellent for statistical analysis and data visualization.\n",
    "3. SQL – Essential for querying and managing databases.\n",
    "4. Julia – High-performance language for numerical computing and data science.\n",
    "5. Scala – Often used with big data frameworks like Apache Spark.\n"
   ]
  },
  {
   "cell_type": "markdown",
   "id": "5a437d3e-8e4e-4e06-a1cc-38d269a18fbf",
   "metadata": {},
   "source": [
    "Some of the commonly used libraries used by Data Scientists include:\n",
    "\n",
    "1. NumPy – For numerical computing and handling arrays.\n",
    "2. Pandas – For data manipulation and analysis.\n",
    "3. Matplotlib – For creating visualizations and plots.\n",
    "4. Scikit-learn – For machine learning and predictive modeling.\n",
    "5. TensorFlow – For deep learning and neural networks.\n"
   ]
  },
  {
   "cell_type": "markdown",
   "id": "db5bbb31-d497-4826-b2dd-7b7c8609f727",
   "metadata": {},
   "source": [
    "| Data Science Tools |\n",
    "|---------------------|\n",
    "| Jupyter Notebook    |\n",
    "| RStudio             |\n",
    "| Spyder              |\n"
   ]
  },
  {
   "cell_type": "markdown",
   "id": "5fd7d23a-d6ad-4953-89e2-17f205416e0d",
   "metadata": {},
   "source": [
    "### Below are a few examples of evaluating arithmetic expressions in Python."
   ]
  },
  {
   "cell_type": "code",
   "execution_count": 4,
   "id": "b93d72fc-d854-4ec6-bc79-6956814b26fb",
   "metadata": {},
   "outputs": [
    {
     "data": {
      "text/plain": [
       "17"
      ]
     },
     "execution_count": 4,
     "metadata": {},
     "output_type": "execute_result"
    }
   ],
   "source": [
    "# This is a simple arithmetic expression to multiply then add integers\n",
    "(3 * 4) + 5\n"
   ]
  },
  {
   "cell_type": "code",
   "execution_count": 7,
   "id": "987ae026-2c5c-4270-84ca-f6991a83993a",
   "metadata": {},
   "outputs": [
    {
     "data": {
      "text/plain": [
       "3.3333333333333335"
      ]
     },
     "execution_count": 7,
     "metadata": {},
     "output_type": "execute_result"
    }
   ],
   "source": [
    "# convert minutes to hours\n",
    "# This will convert 200 minutes to hours by dividing by 60\n",
    "200 / 60\n",
    "\n"
   ]
  },
  {
   "cell_type": "markdown",
   "id": "f4b40679-db07-4721-b22c-a1fbe80b2029",
   "metadata": {},
   "source": [
    "**Objectives:**\n",
    "\n",
    "- List popular languages for Data Science\n",
    "- Identify commonly used libraries for Data Science\n",
    "- Understand development environments used in Data Science\n",
    "- Evaluate basic arithmetic expressions in Python\n",
    "- Convert units such as minutes to hours\n"
   ]
  },
  {
   "cell_type": "markdown",
   "id": "39de753e-3ac0-411d-bcdf-ba8d2b4f20bd",
   "metadata": {},
   "source": [
    "## Author\n",
    "Mwesigwa alafa"
   ]
  },
  {
   "cell_type": "code",
   "execution_count": null,
   "id": "1abc3d4a-08fa-4097-be24-da20b0ad1762",
   "metadata": {},
   "outputs": [],
   "source": []
  }
 ],
 "metadata": {
  "kernelspec": {
   "display_name": "Python [conda env:base] *",
   "language": "python",
   "name": "conda-base-py"
  },
  "language_info": {
   "codemirror_mode": {
    "name": "ipython",
    "version": 3
   },
   "file_extension": ".py",
   "mimetype": "text/x-python",
   "name": "python",
   "nbconvert_exporter": "python",
   "pygments_lexer": "ipython3",
   "version": "3.12.7"
  }
 },
 "nbformat": 4,
 "nbformat_minor": 5
}
